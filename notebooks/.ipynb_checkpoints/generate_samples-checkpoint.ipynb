{
 "cells": [
  {
   "cell_type": "code",
   "execution_count": 2,
   "metadata": {},
   "outputs": [
    {
     "name": "stdout",
     "output_type": "stream",
     "text": [
      "C:\\Users\\dkoro\\PythonProjects\\TOMO\\tomo\n"
     ]
    }
   ],
   "source": [
    "%cd .."
   ]
  },
  {
   "cell_type": "code",
   "execution_count": 3,
   "metadata": {},
   "outputs": [],
   "source": [
    "import matplotlib.pyplot as plt\n",
    "import numpy as np\n",
    "import os\n",
    "import sys\n",
    "from pipeline import Compose, DetectorOptions, ReconstructionOptions\n",
    "from gt_creators import GranulesCreator, PorousCreator\n",
    "from ph_creators import PhantomCreator\n",
    "from projections import FlatFieldFromTomoTwinSource, ProjectionsCreator\n",
    "from simulation import ShiftRingsAugmentation, RandomTimeFunction, TimeRingsAugmentation\n",
    "from reconstruction import ReconReconstruction\n",
    "from utils import seed_everything\n",
    "\n",
    "seed_everything(42)"
   ]
  },
  {
   "cell_type": "code",
   "execution_count": 4,
   "metadata": {},
   "outputs": [],
   "source": [
    "\n",
    "# detector parameters\n",
    "detector_options = DetectorOptions({'detector_dist': 6.0, # detector distance in cm\n",
    "                  'blur_size': 5, # kernel blur size\n",
    "                  'noise': 0.0, # detector noise (0.0 to see the rings) 1.0 default\n",
    "                  'energy_pts': 30.0, # keV\n",
    "                  'pixel_size': 0.7, # res\n",
    "\n",
    "                  'n_projections': 500,\n",
    "                  'projections_range': (0, 180),\n",
    "                  'FOV': (300,300)\n",
    "                })\n",
    "\n",
    "# reconstruction parameters\n",
    "reconstruction_options = ReconstructionOptions({\n",
    "              'pad_frac': 0.8,\n",
    "              'mask_ratio': 0.95,\n",
    "              'contrast_s': (0.01, 0.05)\n",
    "              })\n",
    "\n",
    "\n",
    "\n",
    "# Define the phantom parameters  \n",
    "materials_dict = {\"air\" : 0.00122, \"silica\" : 2.7}\n",
    "sp = 18\n",
    "vs = 0.0745*sp - 0.4428\n",
    "# phantom_params = {\"void_frac\" : [0.35, 0.15], \\\n",
    "#                   \"void_size\" : [vs, 0.2]}\n",
    "\n",
    "\n",
    "# porous\n",
    "phantom_params = {\"void_frac\" : [0.1, 0.0], \\\n",
    "                \"void_size\" : [vs, 0.2]}\n",
    "# circles\n",
    "phantom_params = {'void_frac': 0.5, 'radius': 8, 'radius_std': 4}\n",
    "\n",
    "\n",
    "\n",
    "data_path = 'C:/Users/dkoro/PythonProjects/TOMO/project/TomoTwin/'\n",
    "beam_source = os.path.join(data_path, 'model_data/source_files/7BM/beam_profile_7BM.hdf5')\n",
    "materials_path = os.path.join(data_path, 'model_data')"
   ]
  },
  {
   "cell_type": "code",
   "execution_count": 6,
   "metadata": {},
   "outputs": [
    {
     "ename": "TypeError",
     "evalue": "RandomTimeFunction() got an unexpected keyword argument 'shift'",
     "output_type": "error",
     "traceback": [
      "\u001b[1;31m---------------------------------------------------------------------------\u001b[0m",
      "\u001b[1;31mTypeError\u001b[0m                                 Traceback (most recent call last)",
      "\u001b[1;32m<ipython-input-6-41f4b0cfceec>\u001b[0m in \u001b[0;36m<module>\u001b[1;34m\u001b[0m\n\u001b[0;32m     17\u001b[0m                   \u001b[0mShiftRingsAugmentation\u001b[0m\u001b[1;33m(\u001b[0m\u001b[0mdetector_options\u001b[0m\u001b[1;33m,\u001b[0m \u001b[0mshift\u001b[0m\u001b[1;33m=\u001b[0m\u001b[1;36m50\u001b[0m\u001b[1;33m)\u001b[0m\u001b[1;33m,\u001b[0m \u001b[1;31m# affect flat_field\u001b[0m\u001b[1;33m\u001b[0m\u001b[1;33m\u001b[0m\u001b[0m\n\u001b[0;32m     18\u001b[0m \u001b[1;33m\u001b[0m\u001b[0m\n\u001b[1;32m---> 19\u001b[1;33m                   \u001b[0mTimeRingsAugmentation\u001b[0m\u001b[1;33m(\u001b[0m\u001b[0mdetector_options\u001b[0m\u001b[1;33m,\u001b[0m \u001b[0mRandomTimeFunction\u001b[0m\u001b[1;33m(\u001b[0m\u001b[0mshift\u001b[0m\u001b[1;33m=\u001b[0m\u001b[1;36m10\u001b[0m\u001b[1;33m)\u001b[0m\u001b[1;33m)\u001b[0m\u001b[1;33m,\u001b[0m\u001b[1;33m\u001b[0m\u001b[1;33m\u001b[0m\u001b[0m\n\u001b[0m\u001b[0;32m     20\u001b[0m \u001b[1;33m\u001b[0m\u001b[0m\n\u001b[0;32m     21\u001b[0m                   \u001b[1;31m# reconstruct phantom: reconstructed\u001b[0m\u001b[1;33m\u001b[0m\u001b[1;33m\u001b[0m\u001b[1;33m\u001b[0m\u001b[0m\n",
      "\u001b[1;31mTypeError\u001b[0m: RandomTimeFunction() got an unexpected keyword argument 'shift'"
     ]
    }
   ],
   "source": [
    "from tqdm.notebook import tqdm\n",
    "\n",
    "\n",
    "compose = Compose([\n",
    "                  [detector_options, reconstruction_options],\n",
    "\n",
    "                  # create input data: gt_volume, phantom, flat_field\n",
    "                  [PhantomCreator(detector_options,\n",
    "                                GranulesCreator(phantom_params), # PorousCreator(phantom_params),\n",
    "                                materials_dict, materials_path\n",
    "                              ), FlatFieldFromTomoTwinSource(beam_source, detector_options)], # FlatFieldFromTomoTwinSource(beam_source, detector_options)\n",
    "\n",
    "                  # create projections: projections\n",
    "                  ProjectionsCreator(detector_options),\n",
    "\n",
    "                  # add augmentations\n",
    "                  ShiftRingsAugmentation(detector_options, shift=50), # affect flat_field\n",
    "    \n",
    "                  TimeRingsAugmentation(detector_options, RandomTimeFunction(shift=10)),\n",
    "\n",
    "                  # reconstruct phantom: reconstructed\n",
    "                  ReconReconstruction(reconstruction_options, detector_options)\n",
    "                ])\n",
    "\n",
    "samples = []\n",
    "\n",
    "print('Generating samples...')\n",
    "for i in tqdm(range(10)):\n",
    "    sample = compose()\n",
    "\n",
    "    plt.figure(figsize=(14, 14))\n",
    "    plt.imshow(sample['reconstructed'][40, :, :], cmap='gray')\n",
    "\n",
    "    np.save(f'./data/generated/sample{i}.npy', sample)\n",
    "    samples.append(sample)"
   ]
  },
  {
   "cell_type": "code",
   "execution_count": null,
   "metadata": {},
   "outputs": [],
   "source": []
  }
 ],
 "metadata": {
  "kernelspec": {
   "display_name": "Python 3",
   "language": "python",
   "name": "python3"
  },
  "language_info": {
   "codemirror_mode": {
    "name": "ipython",
    "version": 3
   },
   "file_extension": ".py",
   "mimetype": "text/x-python",
   "name": "python",
   "nbconvert_exporter": "python",
   "pygments_lexer": "ipython3",
   "version": "3.8.3"
  }
 },
 "nbformat": 4,
 "nbformat_minor": 4
}
